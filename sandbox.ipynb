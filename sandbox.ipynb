{
 "cells": [
  {
   "cell_type": "code",
   "execution_count": 2,
   "metadata": {},
   "outputs": [],
   "source": [
    "from manim import *"
   ]
  },
  {
   "cell_type": "code",
   "execution_count": null,
   "metadata": {},
   "outputs": [],
   "source": [
    "# animation of the sum of the first n natural numbers using the formula n(n+1)/2\n",
    "\n",
    "class SumOfNaturalNumbers(Scene):\n",
    "    def construct(self):\n",
    "        n = 10\n",
    "        formula = MathTex(r\"\\sum_{i=1}^{n} i = \\frac{n(n+1)}{2}\")\n",
    "        formula.to_edge(UP)\n",
    "        self.play(Write(formula))\n",
    "        self.wait()\n",
    "\n",
    "        sum = 0\n",
    "        for i in range(1, n+1):\n",
    "            sum += i\n",
    "            sum_text = MathTex(f\"1 + 2 + 3 + ... + {i} = {sum}\")\n",
    "            sum_text.next_to(formula, DOWN)\n",
    "            self.play(Write(sum_text))\n",
    "            self.wait()\n",
    "\n",
    "        self.wait(2)\n",
    "        self.play(FadeOut(sum_text), FadeOut(formula))\n",
    "        self.wait(2)"
   ]
  }
 ],
 "metadata": {
  "kernelspec": {
   "display_name": ".manim",
   "language": "python",
   "name": "python3"
  },
  "language_info": {
   "codemirror_mode": {
    "name": "ipython",
    "version": 3
   },
   "file_extension": ".py",
   "mimetype": "text/x-python",
   "name": "python",
   "nbconvert_exporter": "python",
   "pygments_lexer": "ipython3",
   "version": "3.12.7"
  }
 },
 "nbformat": 4,
 "nbformat_minor": 2
}
